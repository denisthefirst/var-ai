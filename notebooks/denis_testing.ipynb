{
 "cells": [
  {
   "cell_type": "code",
   "execution_count": null,
   "id": "initial_id",
   "metadata": {
    "ExecuteTime": {
     "end_time": "2025-03-30T16:49:04.427661Z",
     "start_time": "2025-03-30T16:48:57.807277Z"
    },
    "collapsed": true
   },
   "outputs": [],
   "source": [
    "import sys\n",
    "import os\n",
    "\n",
    "project_root = os.path.abspath(os.path.join(os.getcwd() , '..'))\n",
    "if project_root not in sys.path:\n",
    "    sys.path.insert(0, project_root)\n",
    "\n",
    "from src.modelling.inference import detect_object_in_video"
   ]
  },
  {
   "cell_type": "code",
   "execution_count": null,
   "id": "be4f57a369ceb5e0",
   "metadata": {
    "ExecuteTime": {
     "end_time": "2025-03-30T17:04:48.034639Z",
     "start_time": "2025-03-30T17:04:30.133060Z"
    },
    "collapsed": false
   },
   "outputs": [],
   "source": [
    "video_path = \"../data/raw/handspiel-video.mp4\"\n",
    "output_path = \"../data/object_detected\"\n",
    "\n",
    "detect_object_in_video(video_path, output_path)"
   ]
  },
  {
   "cell_type": "code",
   "execution_count": null,
   "id": "98b95b6185826796",
   "metadata": {
    "collapsed": false
   },
   "outputs": [],
   "source": []
  }
 ],
 "metadata": {
  "kernelspec": {
   "display_name": ".venv",
   "language": "python",
   "name": "python3"
  },
  "language_info": {
   "codemirror_mode": {
    "name": "ipython",
    "version": 3
   },
   "file_extension": ".py",
   "mimetype": "text/x-python",
   "name": "python",
   "nbconvert_exporter": "python",
   "pygments_lexer": "ipython3",
   "version": "3.11.11"
  }
 },
 "nbformat": 4,
 "nbformat_minor": 5
}
